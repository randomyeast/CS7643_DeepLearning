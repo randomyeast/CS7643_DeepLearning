{
 "cells": [
  {
   "cell_type": "markdown",
   "metadata": {},
   "source": [
    "# Q-Learning & DQNs (12 regular points + 2 extra credit points for both CS4803 and CS7643)\n",
    "\n",
    "In this section, we will implement a few key parts of the Q-Learning algorithm for two cases - (1) A Q-network which is a single linear layer (referred to in RL literature as \"Q-learning with linear function approximation\") and (2) A deep (convolutional) Q-network, for some Atari game environments where the states are images.\n",
    "\n",
    "Optional Readings: \n",
    "- **Playing Atari with Deep Reinforcement Learning**, Mnih et. al., https://www.cs.toronto.edu/~vmnih/docs/dqn.pdf\n",
    "- **The PyTorch DQN Tutorial** https://pytorch.org/tutorials/intermediate/reinforcement_q_learning.html\n"
   ]
  },
  {
   "cell_type": "code",
   "execution_count": 1,
   "metadata": {},
   "outputs": [],
   "source": [
    "%load_ext autoreload\n",
    "%autoreload 2\n",
    "\n",
    "import numpy as np\n",
    "import gym\n",
    "\n",
    "import torch\n",
    "import torch.nn as nn\n",
    "import torch.optim as optim\n",
    "\n",
    "from core.dqn_train import DQNTrain\n",
    "from utils.test_env import EnvTest\n",
    "from utils.schedule import LinearExploration, LinearSchedule\n",
    "from utils.preprocess import greyscale\n",
    "from utils.wrappers import PreproWrapper, MaxAndSkipEnv\n",
    "\n",
    "from linear_qnet import LinearQNet\n",
    "from cnn_qnet import ConvQNet\n",
    "\n",
    "if torch.cuda.is_available():\n",
    "    device = torch.device('cuda', 0)\n",
    "else:\n",
    "    device = torch.device('cpu')"
   ]
  },
  {
   "cell_type": "markdown",
   "metadata": {},
   "source": [
    "## Part 1: Setup Q-Learning with Linear Function Approximation\n",
    "\n",
    "Training Q-networks using (Deep) Q-learning involves a lot of moving parts. However, for this assignment, the scaffolding for the first 3 points listed below is provided in full and you must only complete point 4. You may skip to point 4 if you only care about the implementation required for this assignment.\n",
    "\n",
    "1. **Environments**: We will use the standardized OpenAI Gym framework for environment API calls (read through http://gym.openai.com/docs/ if you want to know more details about this interface). Specifically, we will use a custom Test environment defined in `utils/test_env.py` for initial sanity checks and then Gym-Atari environments later on.\n",
    "\n",
    "\n",
    "2. **Exploration**: In order to train any RL model, we require experience or \"data\" gathered from interacting with the environment by taking actions. What policy should we use to collect this experience? Given a Q-network, one may be tempted to define a greedy policy which always picks the highest valued action at every state. However, this strategy will in most cases not work since we may get stuck in a local minima and never explore new states in the environment which may lead to a better reward. Hence, for the purpose of gathering experience (or \"data\") from the environment, it is useful to follow a policy that deviates from the greedy policy slightly in order to explore new states. A common strategy used in RL is to follow an $\\epsilon$-greedy policy which with probability $0 < \\epsilon < 1$ picks a random action instead of the action provided by the greedy policy.\n",
    "\n",
    "\n",
    "3. **Replay Buffers**: Data gathered from a single trajectory of states and actions in the environment provides us with a batch of highly correlated (non IID) data, which leads to high variance in gradient updates and convergence. In order to ameliorate this, replay buffers are used to gather a set of transitions i.e. (state, action, reward, next state) tuples, by executing multiple trajectories in the environment. Now, for updating the Q-Network, we will first wait to fill up our replay buffer with a sufficiently large number of transitions over multiple different trajectories, and then randomly sample a batch of transitions to compute loss and update the models.\n",
    "\n",
    "\n",
    "4. **Q-Learning network, loss and update**: Finally, we come to the part of Q-learning that we will implement for this assignment -- the Q-network, loss function and update. In particular, we will implement a variant of Q-Learning called \"Double Q-Learning\", where we will maintain two Q networks -- the first Q network is used to pick actions and the second \"target\" Q network is used to compute Q-values for the picked actions. Here is some referance material on the same - [Blog 1](https://towardsdatascience.com/double-q-learning-the-easy-way-a924c4085ec3), [Blog 2](https://medium.com/@ameetsd97/deep-double-q-learning-why-you-should-use-it-bedf660d5295), but we will not need to get into the details of Double Q-learning for this assignment. Now, let's walk through the steps required to implement this below.\n",
    "\n",
    "    - **Linear Q-Network**: In `linear_qnet.py`, define the initialization and forward pass of a Q-network with a single linear layer which takes the state as input and outputs the Q-values for all actions.\n",
    "    - **Setting up Q-Learning**: In `core/dqn_train.py`, complete the functions `process_state`, `forward_loss` and `update_step` and `update_target_params`. The loss function for our Q-Networks is defined for a single transition tuple of (state, action, reward, next state) as follows. $Q(s_t, a_t)$ refers to the state-action values computed by our first Q-network at the current state and and for the current actions, $Q_{target}(s_{t+1}, a_{t+1})$ refers to the state-action values for the next state and all possible future actions computed by the target Q-Network\n",
    "$$\n",
    "\\begin{align*}\n",
    "    Q_{sample}(s_t) &= r_t \\textrm{ if done} \\hspace{10cm}\\\\\n",
    "    &= r_t + \\gamma \\max_{a_{t+1}} Q_{target}\\left(s_{t+1}, a_{t+1}\\right) \\textrm{ otherwise}\\\\\n",
    "    \\textrm{Loss} &= \\left( Q_{sample}(s_t) - Q(s_t, a_t) \\right) ^2\n",
    "\\end{align*}\n",
    "$$"
   ]
  },
  {
   "cell_type": "markdown",
   "metadata": {},
   "source": [
    "\n",
    "### Deliverable 1 (6 points)\n",
    "\n",
    "Run the following block of code to train a Linear Q-Network. You should get an average reward of ~4.0, full credit will be given if average reward at the final evaluation is above 3.5"
   ]
  },
  {
   "cell_type": "code",
   "execution_count": 2,
   "metadata": {
    "scrolled": false
   },
   "outputs": [
    {
     "name": "stderr",
     "output_type": "stream",
     "text": [
      "Evaluating...\n",
      "Average reward: 0.50 +/- 0.00\n"
     ]
    },
    {
     "name": "stdout",
     "output_type": "stream",
     "text": [
      " 1001/10000 [==>...........................] - ETA: 4s - Loss: 5.4173 - Avg_R: 0.3100 - Max_R: 4.0000 - eps: 0.8020 - Grads: 18.6274 - Max_Q: 0.8310 - lr: 0.0042"
     ]
    },
    {
     "name": "stderr",
     "output_type": "stream",
     "text": [
      "Evaluating...\n",
      "Average reward: 3.80 +/- 0.00\n"
     ]
    },
    {
     "name": "stdout",
     "output_type": "stream",
     "text": [
      "\n",
      " 2001/10000 [=====>........................] - ETA: 4s - Loss: 11.3508 - Avg_R: 1.5250 - Max_R: 4.0000 - eps: 0.6040 - Grads: 26.5125 - Max_Q: 1.9198 - lr: 0.0034"
     ]
    },
    {
     "name": "stderr",
     "output_type": "stream",
     "text": [
      "Evaluating...\n"
     ]
    },
    {
     "name": "stdout",
     "output_type": "stream",
     "text": [
      "\n"
     ]
    },
    {
     "name": "stderr",
     "output_type": "stream",
     "text": [
      "Average reward: 3.80 +/- 0.00\n"
     ]
    },
    {
     "name": "stdout",
     "output_type": "stream",
     "text": [
      " 3001/10000 [========>.....................] - ETA: 3s - Loss: 18.9426 - Avg_R: 2.7350 - Max_R: 4.1000 - eps: 0.4060 - Grads: 42.1468 - Max_Q: 2.5432 - lr: 0.0026"
     ]
    },
    {
     "name": "stderr",
     "output_type": "stream",
     "text": [
      "Evaluating...\n",
      "Average reward: 3.80 +/- 0.00\n"
     ]
    },
    {
     "name": "stdout",
     "output_type": "stream",
     "text": [
      "\n",
      " 4001/10000 [===========>..................] - ETA: 3s - Loss: 4.5088 - Avg_R: 2.8550 - Max_R: 4.0000 - eps: 0.2080 - Grads: 22.4652 - Max_Q: 2.7011 - lr: 0.0018"
     ]
    },
    {
     "name": "stderr",
     "output_type": "stream",
     "text": [
      "Evaluating...\n",
      "Average reward: 3.90 +/- 0.00\n"
     ]
    },
    {
     "name": "stdout",
     "output_type": "stream",
     "text": [
      "\n",
      " 5001/10000 [==============>...............] - ETA: 2s - Loss: 9.4948 - Avg_R: 3.8300 - Max_R: 4.1000 - eps: 0.0100 - Grads: 18.0212 - Max_Q: 2.6124 - lr: 0.0010"
     ]
    },
    {
     "name": "stderr",
     "output_type": "stream",
     "text": [
      "Evaluating...\n"
     ]
    },
    {
     "name": "stdout",
     "output_type": "stream",
     "text": [
      "\n"
     ]
    },
    {
     "name": "stderr",
     "output_type": "stream",
     "text": [
      "Average reward: 3.80 +/- 0.00\n"
     ]
    },
    {
     "name": "stdout",
     "output_type": "stream",
     "text": [
      " 6001/10000 [=================>............] - ETA: 2s - Loss: 0.2813 - Avg_R: 4.0500 - Max_R: 4.1000 - eps: 0.0100 - Grads: 4.0521 - Max_Q: 2.9678 - lr: 0.0010"
     ]
    },
    {
     "name": "stderr",
     "output_type": "stream",
     "text": [
      "Evaluating...\n"
     ]
    },
    {
     "name": "stdout",
     "output_type": "stream",
     "text": [
      "\n"
     ]
    },
    {
     "name": "stderr",
     "output_type": "stream",
     "text": [
      "Average reward: 4.10 +/- 0.00\n"
     ]
    },
    {
     "name": "stdout",
     "output_type": "stream",
     "text": [
      " 7001/10000 [====================>.........] - ETA: 1s - Loss: 0.6289 - Avg_R: 4.1000 - Max_R: 4.1000 - eps: 0.0100 - Grads: 4.6048 - Max_Q: 2.7952 - lr: 0.0010 - ETA: 1s - Loss: 2.9616 - Avg_R: 4.1000 - Max_R: 4.1000 - eps: 0.0100 - Grads: 25.9186 - Max_Q: 2.8045 - lr: 0.001"
     ]
    },
    {
     "name": "stderr",
     "output_type": "stream",
     "text": [
      "Evaluating...\n"
     ]
    },
    {
     "name": "stdout",
     "output_type": "stream",
     "text": [
      "\n"
     ]
    },
    {
     "name": "stderr",
     "output_type": "stream",
     "text": [
      "Average reward: 4.10 +/- 0.00\n"
     ]
    },
    {
     "name": "stdout",
     "output_type": "stream",
     "text": [
      " 8001/10000 [=======================>......] - ETA: 1s - Loss: 0.0780 - Avg_R: 4.0950 - Max_R: 4.1000 - eps: 0.0100 - Grads: 4.0452 - Max_Q: 2.8641 - lr: 0.0010 - ETA: 1s - Loss: 0.2186 - Avg_R: 4.1000 - Max_R: 4.1000 - eps: 0.0100 - Grads: 11.8807 - Max_Q: 2.7993 "
     ]
    },
    {
     "name": "stderr",
     "output_type": "stream",
     "text": [
      "Evaluating...\n",
      "Average reward: 4.10 +/- 0.00\n"
     ]
    },
    {
     "name": "stdout",
     "output_type": "stream",
     "text": [
      "\n",
      " 9001/10000 [==========================>...] - ETA: 0s - Loss: 0.0284 - Avg_R: 3.9900 - Max_R: 4.1000 - eps: 0.0100 - Grads: 3.4202 - Max_Q: 2.7056 - lr: 0.0010"
     ]
    },
    {
     "name": "stderr",
     "output_type": "stream",
     "text": [
      "Evaluating...\n"
     ]
    },
    {
     "name": "stdout",
     "output_type": "stream",
     "text": [
      "\n"
     ]
    },
    {
     "name": "stderr",
     "output_type": "stream",
     "text": [
      "Average reward: 4.10 +/- 0.00\n"
     ]
    },
    {
     "name": "stdout",
     "output_type": "stream",
     "text": [
      "10001/10000 [==============================] - 5s - Loss: 0.1006 - Avg_R: 4.0950 - Max_R: 4.1000 - eps: 0.0100 - Grads: 3.1967 - Max_Q: 2.8383 - lr: 0.0010      "
     ]
    },
    {
     "name": "stderr",
     "output_type": "stream",
     "text": [
      "- Training done.\n",
      "Evaluating...\n",
      "Average reward: 4.10 +/- 0.00\n"
     ]
    },
    {
     "name": "stdout",
     "output_type": "stream",
     "text": [
      "\n"
     ]
    }
   ],
   "source": [
    "from configs.p1_linear import config as config_lin\n",
    "\n",
    "env = EnvTest((5, 5, 1))\n",
    "\n",
    "# exploration strategy\n",
    "exp_schedule = LinearExploration(env, config_lin.eps_begin,\n",
    "        config_lin.eps_end, config_lin.eps_nsteps)\n",
    "\n",
    "# learning rate schedule\n",
    "lr_schedule  = LinearSchedule(config_lin.lr_begin, config_lin.lr_end,\n",
    "        config_lin.lr_nsteps)\n",
    "\n",
    "# train model\n",
    "model = DQNTrain(LinearQNet, env, config_lin, device)\n",
    "model.run(exp_schedule, lr_schedule)"
   ]
  },
  {
   "cell_type": "markdown",
   "metadata": {},
   "source": [
    "You should get a final average reward of over 4.0 on the test environment."
   ]
  },
  {
   "cell_type": "markdown",
   "metadata": {},
   "source": [
    "## Part 2: Q-Learning with Deep Q-Networks\n",
    "\n",
    "In `cnn_qnet.py`, implement the initialization and forward pass of a convolutional Q-network with architecture as described in this DeepMind paper:\n",
    "    \n",
    "\"Playing Atari with Deep Reinforcement Learning\", Mnih et. al. (https://www.cs.toronto.edu/~vmnih/docs/dqn.pdf)\n",
    "\n",
    "### Deliverable 2 (4 points)\n",
    "\n",
    "Run the following block of code to train our Deep Q-Network. You should get an average reward of ~4.0, full credit will be given if average reward at the final evaluation is above 3.5"
   ]
  },
  {
   "cell_type": "code",
   "execution_count": 3,
   "metadata": {
    "scrolled": false
   },
   "outputs": [
    {
     "name": "stderr",
     "output_type": "stream",
     "text": [
      "Evaluating...\n",
      "Average reward: 0.50 +/- 0.00\n"
     ]
    },
    {
     "name": "stdout",
     "output_type": "stream",
     "text": [
      "Populating the memory 150/200..."
     ]
    },
    {
     "name": "stderr",
     "output_type": "stream",
     "text": [
      "Evaluating...\n"
     ]
    },
    {
     "name": "stdout",
     "output_type": "stream",
     "text": [
      "\n"
     ]
    },
    {
     "name": "stderr",
     "output_type": "stream",
     "text": [
      "Average reward: 0.50 +/- 0.00\n"
     ]
    },
    {
     "name": "stdout",
     "output_type": "stream",
     "text": [
      "\r",
      " 301/1000 [========>.....................] - ETA: 2s - Loss: 8.7151 - Avg_R: 0.6250 - Max_R: 3.8000 - eps: 0.4060 - Grads: 102.6087 - Max_Q: 0.0753 - lr: 0.0002"
     ]
    },
    {
     "name": "stderr",
     "output_type": "stream",
     "text": [
      "Evaluating...\n",
      "Average reward: -1.00 +/- 0.00\n"
     ]
    },
    {
     "name": "stdout",
     "output_type": "stream",
     "text": [
      "\n",
      " 401/1000 [===========>..................] - ETA: 3s - Loss: 4.0992 - Avg_R: 0.1150 - Max_R: 3.8000 - eps: 0.2080 - Grads: 45.1976 - Max_Q: 0.1627 - lr: 0.0001 "
     ]
    },
    {
     "name": "stderr",
     "output_type": "stream",
     "text": [
      "Evaluating...\n"
     ]
    },
    {
     "name": "stdout",
     "output_type": "stream",
     "text": [
      "\n"
     ]
    },
    {
     "name": "stderr",
     "output_type": "stream",
     "text": [
      "Average reward: 0.50 +/- 0.00\n"
     ]
    },
    {
     "name": "stdout",
     "output_type": "stream",
     "text": [
      "\b\b\b\b\b\b\b\b\b\b\b\b\b\b\b\b\b\b\b\b\b\b\b\b\b\b\b\b\b\b\b\b\b\b\b\b\b\b\b\b\b\b\b\b\b\b\b\b\b\b\b\b\b\b\b\b\b\b\b\b\b\b\b\b\b\b\b\b\b\b\b\b\b\b\b\b\b\b\b\b\b\b\b\b\b\b\b\b\b\b\b\b\b\b\b\b\b\b\b\b\b\b\b\b\b\b\b\b\b\b\b\b\b\b\b\b\b\b\b\b\b\b\b\b\b\b\b\b\b\b\b\b\b\b\b\b\b\b\b\b\b\b\b\b\b\b\b\b\b\b\b\b\b\b\b\b\b\b\b\r",
      " 501/1000 [==============>...............] - ETA: 3s - Loss: 2.3575 - Avg_R: 0.0900 - Max_R: 0.5000 - eps: 0.0100 - Grads: 45.0365 - Max_Q: 0.1602 - lr: 0.0001"
     ]
    },
    {
     "name": "stderr",
     "output_type": "stream",
     "text": [
      "Evaluating...\n"
     ]
    },
    {
     "name": "stdout",
     "output_type": "stream",
     "text": [
      "\n"
     ]
    },
    {
     "name": "stderr",
     "output_type": "stream",
     "text": [
      "Average reward: 0.50 +/- 0.00\n"
     ]
    },
    {
     "name": "stdout",
     "output_type": "stream",
     "text": [
      "\b\b\b\b\b\b\b\b\b\b\b\b\b\b\b\b\b\b\b\b\b\b\b\b\b\b\b\b\b\b\b\b\b\b\b\b\b\b\b\b\b\b\b\b\b\b\b\b\b\b\b\b\b\b\b\b\b\b\b\b\b\b\b\b\b\b\b\b\b\b\b\b\b\b\b\b\b\b\b\b\b\b\b\b\b\b\b\b\b\b\b\b\b\b\b\b\b\b\b\b\b\b\b\b\b\b\b\b\b\b\b\b\b\b\b\b\b\b\b\b\b\b\b\b\b\b\b\b\b\b\b\b\b\b\b\b\b\b\b\b\b\b\b\b\b\b\b\b\b\b\b\b\b\b\b\b\b\b\b\r",
      " 601/1000 [=================>............] - ETA: 2s - Loss: 8.4997 - Avg_R: 1.4250 - Max_R: 4.1000 - eps: 0.0100 - Grads: 102.2609 - Max_Q: 0.2326 - lr: 0.0001"
     ]
    },
    {
     "name": "stderr",
     "output_type": "stream",
     "text": [
      "Evaluating...\n",
      "Average reward: 2.20 +/- 0.00\n"
     ]
    },
    {
     "name": "stdout",
     "output_type": "stream",
     "text": [
      "\n",
      " 701/1000 [====================>.........] - ETA: 2s - Loss: 6.4053 - Avg_R: 2.5850 - Max_R: 4.0000 - eps: 0.0100 - Grads: 96.2750 - Max_Q: 0.2936 - lr: 0.0001 "
     ]
    },
    {
     "name": "stderr",
     "output_type": "stream",
     "text": [
      "Evaluating...\n",
      "Average reward: 4.00 +/- 0.00\n"
     ]
    },
    {
     "name": "stdout",
     "output_type": "stream",
     "text": [
      "\n",
      " 801/1000 [=======================>......] - ETA: 1s - Loss: 3.1181 - Avg_R: 3.8000 - Max_R: 4.0000 - eps: 0.0100 - Grads: 65.4341 - Max_Q: 0.3859 - lr: 0.0001"
     ]
    },
    {
     "name": "stderr",
     "output_type": "stream",
     "text": [
      "Evaluating...\n",
      "Average reward: 4.00 +/- 0.00\n"
     ]
    },
    {
     "name": "stdout",
     "output_type": "stream",
     "text": [
      "\n",
      " 901/1000 [==========================>...] - ETA: 0s - Loss: 1.8140 - Avg_R: 4.0000 - Max_R: 4.0000 - eps: 0.0100 - Grads: 31.4306 - Max_Q: 0.4666 - lr: 0.0001"
     ]
    },
    {
     "name": "stderr",
     "output_type": "stream",
     "text": [
      "Evaluating...\n",
      "Average reward: 4.00 +/- 0.00\n"
     ]
    },
    {
     "name": "stdout",
     "output_type": "stream",
     "text": [
      "\n",
      "1001/1000 [==============================] - 8s - Loss: 3.2452 - Avg_R: 3.9300 - Max_R: 4.0000 - eps: 0.0100 - Grads: 109.4358 - Max_Q: 0.5374 - lr: 0.0001    "
     ]
    },
    {
     "name": "stderr",
     "output_type": "stream",
     "text": [
      "- Training done.\n",
      "Evaluating...\n",
      "Average reward: 3.80 +/- 0.00\n"
     ]
    },
    {
     "name": "stdout",
     "output_type": "stream",
     "text": [
      "\n"
     ]
    }
   ],
   "source": [
    "from configs.p2_cnn import config as config_cnn\n",
    "\n",
    "env = EnvTest((80, 80, 1))\n",
    "\n",
    "# exploration strategy\n",
    "exp_schedule = LinearExploration(env, config_cnn.eps_begin,\n",
    "        config_cnn.eps_end, config_cnn.eps_nsteps)\n",
    "\n",
    "# learning rate schedule\n",
    "lr_schedule  = LinearSchedule(config_cnn.lr_begin, config_cnn.lr_end,\n",
    "        config_cnn.lr_nsteps)\n",
    "\n",
    "# train model\n",
    "model = DQNTrain(ConvQNet, env, config_cnn, device)\n",
    "model.run(exp_schedule, lr_schedule)"
   ]
  },
  {
   "cell_type": "markdown",
   "metadata": {},
   "source": [
    "You should get a final average reward of over 4.0 on the test environment, similar to the previous case."
   ]
  },
  {
   "cell_type": "markdown",
   "metadata": {},
   "source": [
    "## Part 3: Playing Atari Games from Pixels - using Linear Function Approximation\n",
    "\n",
    "Now that we have setup our Q-Learning algorithm and tested it on a simple test environment, we will shift to a harder environment - an Atari 2600 game from OpenAI Gym: Pong-v0 (https://gym.openai.com/envs/Pong-v0/), where we will use RGB images of the game screen as our observations for state.\n",
    "\n",
    "No additional implementation is required for this part, just run the block of code below (will take around 1 hour to train). We don't expect a simple linear Q-network to do well on such a hard environment - full credit will be given simply for running the training to completion irrespective of the final average reward obtained.\n",
    "\n",
    "You may edit `configs/p3_train_atari_linear.py` if you wish to play around with hyperparamters for improving performance of the linear Q-network on Pong-v0, or try another Atari environment by changing the `env_name` hyperparameter. The list of all Gym Atari environments are available here: https://gym.openai.com/envs/#atari\n",
    "\n",
    "### Deliverable 3 (2 points)\n",
    "\n",
    "Run the following block of code to train a linear Q-network on Atari Pong-v0. We don't expect the linear Q-Network to learn anything meaingful so full credit will be given for simply running this training to completion (without errors), irrespective of the final average reward."
   ]
  },
  {
   "cell_type": "code",
   "execution_count": null,
   "metadata": {
    "scrolled": false
   },
   "outputs": [],
   "source": [
    "from configs.p3_train_atari_linear import config as config_lina\n",
    "\n",
    "# make env\n",
    "env = gym.make(config_lina.env_name)\n",
    "env = MaxAndSkipEnv(env, skip=config_lina.skip_frame)\n",
    "env = PreproWrapper(env, prepro=greyscale, shape=(80, 80, 1),\n",
    "                    overwrite_render=config_lina.overwrite_render)\n",
    "\n",
    "# exploration strategy\n",
    "exp_schedule = LinearExploration(env, config_lina.eps_begin,\n",
    "        config_lina.eps_end, config_lina.eps_nsteps)\n",
    "\n",
    "# learning rate schedule\n",
    "lr_schedule  = LinearSchedule(config_lina.lr_begin, config_lina.lr_end,\n",
    "        config_lina.lr_nsteps)\n",
    "\n",
    "# train model\n",
    "model = DQNTrain(LinearQNet, env, config_lina, device)\n",
    "print(\"Linear Q-Net Architecture:\\n\", model.q_net)\n",
    "model.run(exp_schedule, lr_schedule)"
   ]
  },
  {
   "cell_type": "markdown",
   "metadata": {},
   "source": [
    "## Part 4: Playing Atari Games from Pixels - using Deep Q-Networks\n",
    "\n",
    "This part is extra credit and worth 5 bonus points. We will now train our deep Q-Network from Part 2 on Pong-v0. \n",
    "\n",
    "Again, no additional implementation is required but you may wish to tweak your CNN architecture in `cnn_qnet.py` and hyperparameters in `configs/p4_train_atari_cnn.py` (however, evaluation will be considered at no farther than the default 5 million steps, so you are not allowed to train for longer). Please note that this training may take a very long time (we tested this on a single GPU and it took around 6 hours).\n",
    "\n",
    "The bonus points for this question will be allotted based on the best evaluation average reward (EAR) before 5 million time stpes:\n",
    "\n",
    "1. EAR >= 0.0 : 4/4 points\n",
    "2. EAR >= -5.0 : 3/4 points\n",
    "3. EAR >= -10.0 : 3/4 points\n",
    "4. EAR >= -15.0 : 1/4 points\n",
    "\n",
    "### Deliverable 4: (2 points. Extra Credit for both CS4803 and CS7643)\n",
    "\n",
    "Run the following block of code to train your DQN:"
   ]
  },
  {
   "cell_type": "code",
   "execution_count": null,
   "metadata": {
    "scrolled": true
   },
   "outputs": [],
   "source": [
    "from configs.p4_train_atari_cnn import config as config_cnna\n",
    "\n",
    "\n",
    "# make env\n",
    "env = gym.make(config_cnna.env_name)\n",
    "env = MaxAndSkipEnv(env, skip=config_cnna.skip_frame)\n",
    "env = PreproWrapper(env, prepro=greyscale, shape=(80, 80, 1),\n",
    "                    overwrite_render=config_cnna.overwrite_render)\n",
    "\n",
    "# exploration strategy\n",
    "exp_schedule = LinearExploration(env, config_cnna.eps_begin,\n",
    "        config_cnna.eps_end, config_cnna.eps_nsteps)\n",
    "\n",
    "# learning rate schedule\n",
    "lr_schedule  = LinearSchedule(config_cnna.lr_begin, config_cnna.lr_end,\n",
    "        config_cnna.lr_nsteps)\n",
    "\n",
    "# train model\n",
    "model = DQNTrain(ConvQNet, env, config_cnna, device)\n",
    "print(\"CNN Q-Net Architecture:\\n\", model.q_net)\n",
    "model.run(exp_schedule, lr_schedule)"
   ]
  }
 ],
 "metadata": {
  "kernelspec": {
   "display_name": "Python 3",
   "language": "python",
   "name": "python3"
  },
  "language_info": {
   "codemirror_mode": {
    "name": "ipython",
    "version": 3
   },
   "file_extension": ".py",
   "mimetype": "text/x-python",
   "name": "python",
   "nbconvert_exporter": "python",
   "pygments_lexer": "ipython3",
   "version": "3.7.1"
  }
 },
 "nbformat": 4,
 "nbformat_minor": 2
}
